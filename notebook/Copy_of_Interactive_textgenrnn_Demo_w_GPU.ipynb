{
  "nbformat": 4,
  "nbformat_minor": 0,
  "metadata": {
    "colab": {
      "name": "Copy of Interactive textgenrnn Demo w/ GPU",
      "provenance": [],
      "collapsed_sections": [],
      "toc_visible": true
    },
    "kernelspec": {
      "name": "python3",
      "display_name": "Python 3"
    },
    "accelerator": "GPU"
  },
  "cells": [
    {
      "cell_type": "markdown",
      "metadata": {
        "id": "H7LoMj4GA4n_"
      },
      "source": [
        "#  Interactive textgenrnn Demo w/ GPU\n",
        "\n",
        "by [Max Woolf](http://minimaxir.com)\n",
        "\n",
        "*Last updated: April 27tht, 2020*\n",
        "\n",
        "Generate text using a pretrained neural network with a few lines of code, or easily train your own text-generating neural network of any size and complexity, **for free on a GPU using Collaboratory!**\n",
        "\n",
        "For more about textgenrnn, you can visit [this GitHub repository](https://github.com/minimaxir/textgenrnn).\n",
        "\n",
        "\n",
        "To get started:\n",
        "\n",
        "1. Copy this notebook to your Google Drive to keep it and save your changes.\n",
        "2. Make sure you're running the notebook in Google Chrome.\n",
        "3. Run the cells below:\n"
      ]
    },
    {
      "cell_type": "code",
      "metadata": {
        "id": "qbs57FeUybgL",
        "outputId": "ba84fed4-3a9e-42b5-cb68-faf4fbcf055c",
        "colab": {
          "base_uri": "https://localhost:8080/"
        }
      },
      "source": [
        "%tensorflow_version 1.x"
      ],
      "execution_count": 1,
      "outputs": [
        {
          "output_type": "stream",
          "text": [
            "TensorFlow 1.x selected.\n"
          ],
          "name": "stdout"
        }
      ]
    },
    {
      "cell_type": "code",
      "metadata": {
        "id": "KBkpRgBCBS2_",
        "outputId": "49c120bc-afb2-4aa1-bd42-3721d8cd84d9",
        "colab": {
          "base_uri": "https://localhost:8080/"
        }
      },
      "source": [
        "!pip install -q textgenrnn\n",
        "from google.colab import files\n",
        "from textgenrnn import textgenrnn\n",
        "from datetime import datetime\n",
        "import os"
      ],
      "execution_count": 2,
      "outputs": [
        {
          "output_type": "stream",
          "text": [
            "Using TensorFlow backend.\n"
          ],
          "name": "stderr"
        },
        {
          "output_type": "stream",
          "text": [
            "WARNING:tensorflow:From /tensorflow-1.15.2/python3.6/tensorflow_core/python/ops/resource_variable_ops.py:1630: calling BaseResourceVariable.__init__ (from tensorflow.python.ops.resource_variable_ops) with constraint is deprecated and will be removed in a future version.\n",
            "Instructions for updating:\n",
            "If using Keras pass *_constraint arguments to layers.\n"
          ],
          "name": "stdout"
        }
      ]
    },
    {
      "cell_type": "markdown",
      "metadata": {
        "id": "0wXB05bPDYxS"
      },
      "source": [
        "Set the textgenrnn model configuration here: the default parameters here give good results for most workflows. (see the [demo notebook](https://github.com/minimaxir/textgenrnn/blob/master/docs/textgenrnn-demo.ipynb) for more information about these parameters)\n",
        "\n",
        "If you are using an input file where documents are line-delimited, make sure to set `line_delimited` to `True`."
      ]
    },
    {
      "cell_type": "code",
      "metadata": {
        "id": "P8wSlgXoDPCR"
      },
      "source": [
        "model_cfg = {\n",
        "    'word_level': False,   # set to True if want to train a word-level model (requires more data and smaller max_length)\n",
        "    'rnn_size': 128,   # number of LSTM cells of each layer (128/256 recommended)\n",
        "    'rnn_layers': 3,   # number of LSTM layers (>=2 recommended)\n",
        "    'rnn_bidirectional': False,   # consider text both forwards and backward, can give a training boost\n",
        "    'max_length': 10,   # number of tokens to consider before predicting the next (20-40 for characters, 5-10 for words recommended)\n",
        "    'max_words': 10000,   # maximum number of words to model; the rest will be ignored (word-level model only)\n",
        "}\n",
        "\n",
        "train_cfg = {\n",
        "    'line_delimited': False,   # set to True if each text has its own line in the source file\n",
        "    'num_epochs': 50,   # set higher to train the model for longer\n",
        "    'gen_epochs': 5,   # generates sample text from model after given number of epochs\n",
        "    'train_size': 0.8,   # proportion of input data to train on: setting < 1.0 limits model from learning perfectly\n",
        "    'dropout': 0.01,   # ignore a random proportion of source tokens each epoch, allowing model to generalize better\n",
        "    'validation': False,   # If train__size < 1.0, test on holdout dataset; will make overall training slower\n",
        "    'is_csv': True   # set to True if file is a CSV exported from Excel/BigQuery/pandas\n",
        "}"
      ],
      "execution_count": 9,
      "outputs": []
    },
    {
      "cell_type": "markdown",
      "metadata": {
        "id": "BT__brhBCvJu"
      },
      "source": [
        "In the Colaboratory Notebook sidebar on the left of the screen, select *Files*. From there you can upload files:\n",
        "\n",
        "![alt text](https://i.imgur.com/TGcZT4h.png)\n",
        "\n",
        "Upload **any text file** and update the file name in the cell below, then run the cell."
      ]
    },
    {
      "cell_type": "code",
      "metadata": {
        "id": "6OFnPCLADfll"
      },
      "source": [
        "file_name = \"/content/dfbiden.csv\"\n",
        "model_name = 'colaboratory'   # change to set file name of resulting trained models/texts"
      ],
      "execution_count": 11,
      "outputs": []
    },
    {
      "cell_type": "markdown",
      "metadata": {
        "id": "LdpZQXknFNY3"
      },
      "source": [
        "The next cell will start the actual training. And thanks to the power of Keras's CuDNN layers, training is super-fast when compared to CPU training on a local machine!\n",
        "\n",
        "Ideally, you want a training loss less than `1.0` in order for the model to create sensible text consistently."
      ]
    },
    {
      "cell_type": "code",
      "metadata": {
        "id": "aeXshJM-Cuaf",
        "outputId": "3bccc8b1-1d25-48be-9243-c4e74cf110fe",
        "colab": {
          "base_uri": "https://localhost:8080/"
        }
      },
      "source": [
        "textgen = textgenrnn(name=model_name)\n",
        "\n",
        "train_function = textgen.train_from_file if train_cfg['line_delimited'] else textgen.train_from_largetext_file\n",
        "\n",
        "train_function(\n",
        "    file_path=file_name,\n",
        "    new_model=True,\n",
        "    num_epochs=train_cfg['num_epochs'],\n",
        "    gen_epochs=train_cfg['gen_epochs'],\n",
        "    batch_size=512,\n",
        "    train_size=train_cfg['train_size'],\n",
        "    dropout=train_cfg['dropout'],\n",
        "    validation=train_cfg['validation'],\n",
        "    is_csv=train_cfg['is_csv'],\n",
        "    rnn_layers=model_cfg['rnn_layers'],\n",
        "    rnn_size=model_cfg['rnn_size'],\n",
        "    rnn_bidirectional=model_cfg['rnn_bidirectional'],\n",
        "    max_length=model_cfg['max_length'],\n",
        "    dim_embeddings=100,\n",
        "    word_level=model_cfg['word_level'])"
      ],
      "execution_count": 12,
      "outputs": [
        {
          "output_type": "stream",
          "text": [
            "Training new model w/ 3-layer, 128-cell LSTMs\n",
            "Training on 110,791 character sequences.\n",
            "Epoch 1/50\n",
            "216/216 [==============================] - 6s 30ms/step - loss: 2.8985\n",
            "Epoch 2/50\n",
            "216/216 [==============================] - 6s 27ms/step - loss: 2.0552\n",
            "Epoch 3/50\n",
            "216/216 [==============================] - 6s 29ms/step - loss: 1.8449\n",
            "Epoch 4/50\n",
            "216/216 [==============================] - 6s 29ms/step - loss: 1.7037\n",
            "Epoch 5/50\n",
            "216/216 [==============================] - 6s 29ms/step - loss: 1.5930\n",
            "####################\n",
            "Temperature: 0.2\n",
            "####################\n",
            " US election is the US election in the US election in the US election in the US election poll: Trump BEATING Biden despotes and the US election in the US election in the US election is a conterfering the US election in the US election in the US election in the US election in the US election in the U\n",
            "\n",
            "e US election in the US election in the US election is a conterfical debate and the US election in the US election  https://t.co/TJBjEjREJR\"\n",
            "2000,\"US election in the US election in the US election in the US election debate and the US election in the US election in the US election in the US election \n",
            "\n",
            " the US election in the US election in the US election  https://t.co/ttBptddUiUS\n",
            "2200,\"\"\"We canse the US election in the US election in the US election in the US election in the US election  https://t.co/pQRUHdqJQj\"\n",
            "2200,\"I don't a decidences and the US election debate and the US election resulting \n",
            "\n",
            "####################\n",
            "Temperature: 0.5\n",
            "####################\n",
            " belieation and a and the US election polite be the US election:  https://t.co/v5bMhXpQgj\n",
            "3237,\"US election will be and imeagues and the US election poll: Trump BEATING Biden deal with that he could the US election  https://t.co/zoEt0R3JAz\n",
            "3012,\"In the US election politicate to puses of the US elect\n",
            "\n",
            "fore the US election funing the US election an truticion and they US election and the US election 2020: #Biden #USelection #USElection  https://t.co/EUfKOaBRy0\n",
            "13292,\"How supporter will can week Trump and @JoeBiden wins the US election  https://t.co/EQ30pdBoQy\"\n",
            "3206,\"Dain suncests out the US electio\n",
            "\n",
            "ecade.    https://t.co/tQVpxittIj\n",
            "1357,\"US Election  https://t.co/tRogCtc8Qy  https://t.co/dLA2f5pWqb\n",
            "43661,\"Biden in the US election and the US election debate in a our it we can more a market I dongatic states all the US election 2020: Trump and Biden wins, and decide the US election poll: Trump B\n",
            "\n",
            "####################\n",
            "Temperature: 1.0\n",
            "####################\n",
            "with the commpaign    https://t.co/9aoEqGSD9C\n",
            "1024,\"Overshoo with clasted ry suppritemed by seads   https://t.co/9Q0clk74op\"\n",
            "3469,\"LOT 39 @CosMietis202020\"\n",
            "3982,OPE CIK /Sr “mecficial louledly to gegate foreal voteming wheker abade.  But ithead the US election for my beouings. Joh statement folitic,\n",
            "\n",
            "ANC forwigg and to centory agentout. The pillo like debictite they US election is to what can andsaging like this XJDE-NOVE TOREL 290 #USElection because accampanus trun.  @BleakMARAHEANg:  https://t.co/Tt706CCfBE   20 CH. US plennest and leterhal C🏻MElFTF #PWE destorys in the US election, ake bouth\n",
            "\n",
            "   Litden-inteal politiclacyd. Vote seebly imporenticaition pacicain Allaker have metter aceeserrioual elective Sucing..  #6otald main).  Mote.  US syet, ingensiver ✅An eway, and this wins, flobaticlins the firds an week?\"\n",
            "3285,\"\"HCDESLIVE\n",
            "5819,US Election.  Ir Boins? 🇺🇸  #USElection 2020: No mosts \n",
            "\n",
            "Epoch 6/50\n",
            "216/216 [==============================] - 6s 27ms/step - loss: 1.5023\n",
            "Epoch 7/50\n",
            "216/216 [==============================] - 6s 28ms/step - loss: 1.4237\n",
            "Epoch 8/50\n",
            "216/216 [==============================] - 6s 28ms/step - loss: 1.3519\n",
            "Epoch 9/50\n",
            "216/216 [==============================] - 6s 29ms/step - loss: 1.2865\n",
            "Epoch 10/50\n",
            "216/216 [==============================] - 6s 30ms/step - loss: 1.2224\n",
            "####################\n",
            "Temperature: 0.2\n",
            "####################\n",
            "US election 2020: Biden to the US election 2020: Biden to see to the US election 2020: Biden says than Joe Biden and Biden victory in the US election 2020: Biden to win the US election 2020: Biden says the US election is the US election 2020: Biden than $50 million   https://t.co/dLkpkgismz\n",
            "2222,\"I'\n",
            "\n",
            "ets #USElection #USvote #Biden2020 #VOTE LIVE UPDATES:  https://t.co/yZxy8Zar3c\"\n",
            "2220,\"I'm voters since the US election day.  #USElection #USvote #Biden2020 #VOTE LIVE UPDATES:  https://t.co/no8T44jgJz\"\n",
            "2222,\"I'm voters to go the US election 2020: Biden to win the US election 2020: Biden says the US\n",
            "\n",
            "e US election 2020: Biden says the US election 2020: Biden to win the US election 2020: Biden to win the US election debate is the US election 2020: Biden says the US election 2020: Biden response or the first presidential debate  https://t.co/r8W8t8idPj\n",
            "2123,US election 2020: Biden to secure a seco\n",
            "\n",
            "####################\n",
            "Temperature: 0.5\n",
            "####################\n",
            "Biden asks the President mand more debate in the US election coverage on the world win the contralleghed of the US election. Is this says not state of the US election debate than markets of The world done simes of the 2020 US election 2020: Biden responders or the still be the country live that Joe \n",
            "\n",
            "sement marketing the country voters to call deegars polls so a bagarras still the candidate Joe Biden to win what more in the Sanders state off an expected by and litter confirmed of the US election looms to the US election.  https://t.co/sHtkpdLbfhe\"\n",
            "2128,\"Polls say scientifical country as Trump an\n",
            "\n",
            "tand I don't be the US election in the US election is infilst corruption can prepared than the country with Trump wins. He defining the US election is the US election interference in the US election is the US election 2020: Biden being hospitalised with coverage of their and Joe Biden With Biden bec\n",
            "\n",
            "####################\n",
            "Temperature: 1.0\n",
            "####################\n",
            "V. This to the UK and faces on for the againsts #USElection:   Let Marked 'sanrea have been? This isn’t all umery state the White Vt-for dange't Istagros #USElection  #TapT, uffuces here hearing 7 state ... in a US cennive JOK so Gotting the close deneving that if Joe Biden thankey to Biden is the e\n",
            "\n",
            "curruge Amp of the ‘eloment forly look say nominee Trump lossed that trume in Ausine or the US elections than $5820 US ELECTION POLL 🇺🇸 🇺🇸 🇺🇸 🇺🇸 🇺🇸 🇺🇸 🇺🇸 🇺🇸 🇺🇸 🇺🇸 🇺🇸 🇺🇸 🇺🇸 🇺🇸 🇺🇸 🇺🇸 🇺🇸 🇺🇸 🇺🇸 🇺🇸 🇺🇸 🇺🇸 🇺🇸 🇺🇸 🇺🇸 🇺🇸 🇺🇸 🇺🇸 🇺🇸 🇺🇸 🇺🇸 🇺🇸 🇺🇸 🇺🇸 🇺🇸 🇺🇸 🇺🇸 🇺🇸 🇺🇸  that saiff on Tuppe\"\n",
            "3873,\"A two than Biden has p\n",
            "\n",
            "son on fucustalacizron #PuteBaybok365 #DoonaldTrump vs Presidential debate before ralests to \"\"Tweetonam laid  https://t.co/tsEuNa5dHW\n",
            "229,\"President Biden's Frund fajusing ocred a. Yoirgration.  Pest barolate voting about I'm she ground on 2020 US Election 2020: Donald Trump wins, I won’t a canboun\n",
            "\n",
            "Epoch 11/50\n",
            "216/216 [==============================] - 6s 27ms/step - loss: 1.1604\n",
            "Epoch 12/50\n",
            "216/216 [==============================] - 6s 29ms/step - loss: 1.1004\n",
            "Epoch 13/50\n",
            "216/216 [==============================] - 6s 29ms/step - loss: 1.0430\n",
            "Epoch 14/50\n",
            "216/216 [==============================] - 6s 29ms/step - loss: 0.9856\n",
            "Epoch 15/50\n",
            "216/216 [==============================] - 6s 29ms/step - loss: 0.9322\n",
            "####################\n",
            "Temperature: 0.2\n",
            "####################\n",
            "iden  https://t.co/DAEAxVh7BA\"\n",
            "1036,\"If Biden wins the US election is the US election is the US election isn't a stake in the US election of the US election  https://t.co/iAkUpd6at  https://t.co/SFVAA1VKxb\n",
            "1772,\"A British @JoeBiden where here 👉  https://t.co/ScDAc4d82US  https://t.co/MA30cJBomM @rea\n",
            "\n",
            "iden is the US election 2020: Biden candidate Joe Biden is whether to an election  https://t.co/S0LAA4bTPj\"\n",
            "192,\"Biden or Trump and Biden to win the US election is to Alberta and the US election  https://t.co/eAHVxTVdVj\n",
            "1932,\"This is what I was voters and the Democrat Presidential debate  https://t.\n",
            "\n",
            "iden  https://t.co/SxHGcf0oVI\"\n",
            "2450,\"The US election is the US election  https://t.co/j7RA4dKKVP  https://t.co/g0PAqa7ckU\n",
            "4555,\"US Election 2020: Biden candidate Joe Biden  https://t.co/kQPAqSjcw5\n",
            "1111,\"\"\"If the US election is the US election  https://t.co/dc2FAdjV2V\n",
            "2212,\"Trump and Biden to win the\n",
            "\n",
            "####################\n",
            "Temperature: 0.5\n",
            "####################\n",
            "he US election campaign was a Biden set sore for Brexit as US election campaign rally in US election  https://t.co/XcLtVXVf0G\n",
            "2051,\"\"\"If Bennibe is inchard in the US election of come of the US election 2020: Biden candidate Joe Biden at the new barked by the world have to be voting for Democratic pr\n",
            "\n",
            " up deterence almisalised with covid – EXCLUSIVE  https://t.co/VOVVu8bH5b\n",
            "2033,\"Fradadi the US election - polls supporters show that is not bet him the only rights?  https://t.co/VASxCOPQHb\n",
            "2022,\"\"\"If I've better than any chance on the Supreme China of American speaning US election.   https://t.co/O\n",
            "\n",
            "ection  https://t.co/nKVp3oVQFM\n",
            "2138,\"The 2020 US election is with and Trump and Biden to win the US election doesn't consequences of the US election doesn't convenivn in the US election   https://t.co/2nJpJR9TwU  https://t.co/hMcp0RhVpa\"\n",
            "2444,US election interference in the US election.  https://t.\n",
            "\n",
            "####################\n",
            "Temperature: 1.0\n",
            "####################\n",
            "from a gore than pay for a moarriad of birmae in voters are better for Busis of Biden repeates  #Trump2020 #Biden #NoteStus escitan for a second term? Biden?  Trump v Taice brow on trump, prisent of a close it’s many 'the Britisa @JoeBiden where held of 'Wedvists  #USelection #conory fafficksmakers \n",
            "\n",
            " @JoeBiden with's onfining Laude  Rediganey American' turned linest Marko “as compent doe leader to “top offerced of Brexit an Hunter Biden.\"\n",
            "2540,\"A lot of Joe Biden deecake before Amerkey Johnina, Not if Biden is includecing by Joe Biden/Kamala Harris  https://t.co/7fWRcfZLi9\"\n",
            "4567,\"The RECAEN: Ma\n",
            "\n",
            "iden just would's state; he won’t but Russian to learning, Govermany Americans for the realities ob “ame released to get Hillary Clinton's saniff countreemeting Canada says the #USelection  https://t.co/gdVUSEyGBP\n",
            "1168,\"US election LIVE updates 👉  https://t.co/6j4L0mcsb6\n",
            "2932,🇺🇸 US Election Saude – \n",
            "\n",
            "Epoch 16/50\n",
            "216/216 [==============================] - 6s 28ms/step - loss: 0.8809\n",
            "Epoch 17/50\n",
            "216/216 [==============================] - 6s 30ms/step - loss: 0.8317\n",
            "Epoch 18/50\n",
            "216/216 [==============================] - 6s 29ms/step - loss: 0.7841\n",
            "Epoch 19/50\n",
            "216/216 [==============================] - 7s 30ms/step - loss: 0.7400\n",
            "Epoch 20/50\n",
            "216/216 [==============================] - 7s 30ms/step - loss: 0.6985\n",
            "####################\n",
            "Temperature: 0.2\n",
            "####################\n",
            "/t.co/S0oAwdlr3z\n",
            "3063,\"I’m released a slams a betting to win the US election 2020: Donald Trump and Biden posts from the US election 2020: Donald Trump and Joe Biden  https://t.co/SblApA2mJI\n",
            "4700,US election  https://t.co/ngLAYEiJJU\n",
            "4558,\"The US election  https://t.co/umLAppJA\n",
            "3336,Boodd to get ‘mar\n",
            "\n",
            "/t.co/mmpppiimnnering sprinifipation before the US election is to stems that report on the US election  https://t.co/F03A9Jq8nz\n",
            "1004,\"Why do to do to be the attress to the latest US election 2020: Donald Trump and Joe Biden  https://t.co/Slp9uSiryA\n",
            "4633,\"Watch WION's US Election 2020: Donald Trump a\n",
            "\n",
            "vote for Joe Biden and his far more and expect of a controlity are won't cormance the US election is to stems to the latest US election  https://t.co/SBlMuiddJC\"\n",
            "1943,US election 2020: Donald Trump and Joe Biden  https://t.co/S3JAO4irQz\n",
            "1304,\"This poll accurately puting to support Biden will win the\n",
            "\n",
            "####################\n",
            "Temperature: 0.5\n",
            "####################\n",
            "vote in the US election 2020: Donald Trump has so much of the US election LIVE updates 👉  https://t.co/BQXM0f8LkC\n",
            "1368,\"I'm realital in Sote on the US election polls tracker: wo are global affair meney to stop all about polling to vote for anyombrenced to win the US election 2020: Donald Trump here \n",
            "\n",
            "ion special media.  If that the US election polling on here 👉  https://t.co/n8XH14trN5 US election looms – ‘Biden bad for same oh active days from the US election?  https://t.co/ltlJQoOU\n",
            "1345,US election is a mask or Trump vs Biden: Watch WION's US Election 2020: Donald Trump and Joe Biden for US pr\n",
            "\n",
            "vote for anyone on the US election sparts of a comment for science and democracy make him the only choice in the US election result before the US election 2020: Trump attacks Biden surges to 'dembence as our less the landslide victory before the US election polls looks of the US election is to suppo\n",
            "\n",
            "####################\n",
            "Temperature: 1.0\n",
            "####################\n",
            " $472\n",
            "1246,Of US election is to griendly /his promationed that, Fon help Trump or @JoeBiden does to do would rike another month be president\"\"\"\n",
            "448,mainipgract #BidenHarrisTovaris, Wreat #Americhones @realDonaldTrump will going to get Irania and I have a Teragip In what a warns against why then a co\n",
            "\n",
            "Trump to did says \"\"doori. - Biden = sure of success   https://t.co/oq1Gvf3d45   https://t.co/4sBL1thbpA\n",
            "1453,\"Uthistlongy point is attempt I and Donald Trump alston -In was boing to be main are right neulls are reality the Biden just wanting the first Iran) Uchee accorsed would and @AndrinDaater Ha\n",
            "\n",
            "/t.co/DhCygKMpSQ\"\n",
            "893,US election polling on MN, pode &amp; callst nominee Joe Biden: #Sciecaster behind taking yon tears. @gash twich the US, lootive for US election.”  Op crize warms Bood Amber Andriy the attack  #Warmemucna  https://t.co/W5fcJXWrve\"\n",
            "1839,\"I know well be Borism   https://t.co/m3Tp\n",
            "\n",
            "Epoch 21/50\n",
            "216/216 [==============================] - 6s 27ms/step - loss: 0.6607\n",
            "Epoch 22/50\n",
            "216/216 [==============================] - 6s 29ms/step - loss: 0.6250\n",
            "Epoch 23/50\n",
            "216/216 [==============================] - 6s 29ms/step - loss: 0.5896\n",
            "Epoch 24/50\n",
            "216/216 [==============================] - 6s 29ms/step - loss: 0.5597\n",
            "Epoch 25/50\n",
            "216/216 [==============================] - 6s 29ms/step - loss: 0.5305\n",
            "####################\n",
            "Temperature: 0.2\n",
            "####################\n",
            "/t.co/nohUxfNtwagn Insigence the same the tolically to vote for Trump  https://t.co/OZ07uQOxGG\n",
            "4539,\"This media play doesn’t guarantee peace for the US election  https://t.co/O5R0ubdsgz\n",
            "2629,\"This year's US election  https://t.co/toopTisssive in the US election is to Alberta and Canadian, its the US\n",
            "\n",
            "/t.co/ucoAOkbsiheisIs for the people of Iran for the US election 2020: Trump and Joe Biden   https://t.co/kZ30mZO835 Trump made a states the US election  https://t.co/BotATfr8gt\n",
            "1486,\"I undermined. Biden has a controlled to get that the US election is to a betting to win the US election is to Albert\n",
            "\n",
            "//t.co/toxAti88\n",
            "1779,\"@realDonaldTrump    https://t.co/4oJ8Noigize @F the state of American soil for Biden to win the US election is to Alberta and Canadian, it is to vote on Sornia, it will funct of to begins  https://t.co/O33AxQFAJC\n",
            "4058,\"Johnson is an exceguse on the US election is to Alberta and\n",
            "\n",
            "####################\n",
            "Temperature: 0.5\n",
            "####################\n",
            "//t.co/CYRp8gr6aM\n",
            "3224,\"A very diag, the US election is to Alberta and Canadian, it is the states the corruption. Is the US election comes up, if Biden wins the US election 2020: Random PC RU. ANC INEN nexrt over bottle gets opened if Biden with this?\n",
            "974,\"My presidential debate  https://t.co/TN3Gd6\n",
            "\n",
            "/t.co/pOm5Uinrs @csickation of Americans alone so much about the ultimate prize  https://t.co/zSHAcckdVb\n",
            "2481,\"US Election 2020 polls: Who won the #Debates2020     https://t.co/zo3NVtiogk\n",
            "4128,US election integrity of the debate, the comman, I who win, which the streets and a controlled to get thank\n",
            "\n",
            "//t.co/Bp5eCXtoTn\n",
            "2226,\"Biden campaign to denigate.  https://t.co/5VPTqTkZrz\"\n",
            "1366,\"In the world will be absolutely on bise to store Trump and Joe Biden, Bor said, your voting in the swing states on the upcoming US election 2020: Donald Trump.  In the state of Ismem to the top on the US election com\n",
            "\n",
            "####################\n",
            "Temperature: 1.0\n",
            "####################\n",
            "Biden's limely.\n",
            "1986,\"Tovid does to Joe Biden, to have the ONLY choice in the US election 2020: then election?  https://t.co/WsDMImqkbW\n",
            "2835,\"In allegahiv poll for the UK medber, goes for Trump/yint for in the US election + Donald Trump and Biden sets of the BBC’s other storibue of the US Election 2\n",
            "\n",
            "ed they imes).   Biden 6% 7% 7oer Biden as he is at least nepis Trump's confident to help Biden with @Demmornclom, Joe Biden  https://t.co/zhRZbxkoCT\"\n",
            "8130,\"Uthroet tonightragly, Onio • Vialiant  Russia ashil Biden\"\n",
            "4061,\"We contrictionsd there in any @MichiaGfakss Biden Mob a know I do the rad &amp\n",
            "\n",
            "im Rpuss 43  Horetter 2026, conpett on the US election Islect or Biden is in a very relear plans to the whichoul det- lattlem, over for the ‘Biden's mivil the work.  WIN CHANCE (daily change) Biden: 22% Trump to the US election I lest time? We needs “like Biden and the Democratic nominee Joe Biden, \n",
            "\n",
            "Epoch 26/50\n",
            "216/216 [==============================] - 6s 28ms/step - loss: 0.5045\n",
            "Epoch 27/50\n",
            "216/216 [==============================] - 6s 29ms/step - loss: 0.4811\n",
            "Epoch 28/50\n",
            "216/216 [==============================] - 6s 30ms/step - loss: 0.4585\n",
            "Epoch 29/50\n",
            "216/216 [==============================] - 6s 30ms/step - loss: 0.4395\n",
            "Epoch 30/50\n",
            "216/216 [==============================] - 6s 29ms/step - loss: 0.4216\n",
            "####################\n",
            "Temperature: 0.2\n",
            "####################\n",
            " that happens,topon endorsement for Joe Biden and Donald Trump and Joe Biden asks if Americans want the US election is over and the closer solidation of a get #Bull British and @realDonaldTrump will face each other in the US election isn't a normst of an “lect a contrepent fears  https://t.co/PdLvJL\n",
            "\n",
            " that happens,topon endorsement  https://t.co/Txxpgfbtbz\n",
            "123,\"This will be lead, in a new barest the weokend, while Biden in the upcoming US election is of the US election is of the US election is of the US election is over and the closer's subpay support Biden. Eleader V. Ve show on the #USElection\n",
            "\n",
            " that happens,topon endorsement for Joe Biden for president twice before Trump than ever for monts in financial consequences of the US election is over and the closer's subpar of prove wagent for over a decade.” Join Biden wins the US election is over and the campaign trail  https://t.co/tyxGxixtyz\n",
            "\n",
            "\n",
            "####################\n",
            "Temperature: 0.5\n",
            "####################\n",
            " that happens,topon officely days before the US election in Ilubos why Biden is expectoria with and \"\"aver that poll: Termonnek a deal prior what a genery will be quetes, and that he is *uestional palls a deal with Joe Biden stuttering which is more directood as already voted the montsly has support\n",
            "\n",
            "control.  I Alsuenting to vote for Biden to victory.  https://t.co/DGxu6UzUFS  https://t.co/tXx70xrpaa\n",
            "6 Trump 46 % of Trump and Joe Biden faceofism and that publiclative Biden has a new markets through all the campaign in real lose polls say in the states whether or not to the US election and rom a\n",
            "\n",
            " you had a vacting Russians to US candidate Joe Biden is a greance and democracy make him the only choice in the US election results are imparnet\"\n",
            "4445,\"Manotal pack ameas of the way, the gangs of Joe Biden will face off in first president twice before.  But what more do we know about Joe Biden   #U\n",
            "\n",
            "####################\n",
            "Temperature: 1.0\n",
            "####################\n",
            "conteront if Trump wins it will become a curt president.  But I tar noted shoolrage down the day   The UK memiigs. I've never before has climate cerougn walking stranging waiting US election LIVE updates 👉  https://t.co/clPCKdzWRY\"\n",
            "40,US election, @Twitter Biden's lead &amp; posh ragisg with Trump  \n",
            "\n",
            "restience on an upcoming US election. It is before a US election and qusting michoraster and can not capabate to vote in though for Joe Biden has a decademe to market for of ONL   Wo ba, Biden stuttering what I'm fate.  https://t.co/45Shz5SW1q\"\n",
            "421,\"Cone's\"\"\"\" continued in re-Rigabi's works Biden wi\n",
            "\n",
            "resting the cotings Gevius and will be under than onvigusing in political particism they risk for Amer clovendates\n",
            "3695,US election by attacking Jady sore. @DebricIOmNHast\n",
            "3616,\"US Pres &amp; Irana is as the those terms, and has expame in the US election isn’t about Americans want the US Election sp\n",
            "\n",
            "Epoch 31/50\n",
            "216/216 [==============================] - 6s 27ms/step - loss: 0.4040\n",
            "Epoch 32/50\n",
            "216/216 [==============================] - 6s 29ms/step - loss: 0.3897\n",
            "Epoch 33/50\n",
            "216/216 [==============================] - 6s 30ms/step - loss: 0.3760\n",
            "Epoch 34/50\n",
            "216/216 [==============================] - 6s 29ms/step - loss: 0.3641\n",
            "Epoch 35/50\n",
            "216/216 [==============================] - 6s 29ms/step - loss: 0.3517\n",
            "####################\n",
            "Temperature: 0.2\n",
            "####################\n",
            "ments as we near the end of the dish and mamo a groughting they had an antise policy that Jasning, Leok  https://t.co/ym9ypfimited to surpristing techally interesting the criminal regime in Iran and its consequences for the people love the race bot for scientists @nature endorses Joe Biden and the D\n",
            "\n",
            "/t.co/SDxJppNRFA\"\n",
            "1073,\"If Biden wins the US election 2020: Trump and Joe Biden and the Democrat challenger since the 1936 US election 2020: Trump and Joe Biden and the Democrat Joe Biden and #KamalaHarris in #US Election 2020: Trump and Joe Biden and his far right populist not ahead, a US election \n",
            "\n",
            "ments as we near the end of the dish and more  https://t.co/pZPApiooox\n",
            "740,\"The US election 2020: Trump and Joe Biden and the Democrat Joe Biden and the Democrat Joe Biden and #KamalaHarris in #US Election 2020: Trump and Joe Biden and #KamalaHarris in #US Election 2020: Trump and Joe Biden and the \n",
            "\n",
            "####################\n",
            "Temperature: 0.5\n",
            "####################\n",
            "/t.co/vA97wmVDfz\"\n",
            "4403,US election coverage of exam life a croting some a rele, usround to a become a currently infected with a more are pro-Brexit as US election by attacking JOE on as waik for Biden to win the US election 2020: Trump and Joe Biden  https://t.co/q3xn9uRKIz\"\"\n",
            "2450,\"The scientific jo\n",
            "\n",
            "the Hunter Biden is a grantic bally out his base is mighty.   https://t.co/WVt90i642F\"\n",
            "1651,US election for Biden for sure.  I alvn about Senamely 2ayl deal. Biden wins the US election poll: Trump BEATING Biden despite being hospitalised with covid  https://t.co/Ep0p5xSpQq\n",
            "3330,If US election 2020: \n",
            "\n",
            "/t.co/t3ox4apIz\"\n",
            "1061,1/jwlalad Joe Biden  https://t.co/uDtopust at the moment (Ampore a Joo Biden #USElection   https://t.co/vD3uTrpWYA\"\n",
            "1997,\"A there’s a Biden victory in the US election day. Book n that right now and my diploment manky's qutesting which candidate Joe Biden  https://t.co/W3Pf8SV3h\n",
            "\n",
            "####################\n",
            "Temperature: 1.0\n",
            "####################\n",
            " nature?--@PREUnd2tmenter for US election to attempt  #BidenHarrisToTamalu at important they would all have nets “more for the US economy than FH..s. it it compeite right of today's #Daily podcast wiq girging the plays to limitur &amp; the gang-@nyws  Kamala Harris ticket | word was chance on and ma\n",
            "\n",
            "maints’ volawand US President Donald Trump and Biden, the US election may keepune it’s reported derision. Pleas  #USelection here: (that gove presentopicals sturting intervent featuring Baraaze was going to resolve shilded as Besota   #VoteBlue  https://t.co/J0G8K07dg\"\n",
            "1278,Trump v. This record 1 en\n",
            "\n",
            "not a shorte to UK can vuaders of the same tdo into a Conald Biden landslide, our sichorsed and favor - Biden will win mon the narrative candidate) Joe Biden and fambe stricker turred there presidential nominee Joe Biden.  Scarely Sand he presidential volame in his a decaic n more usdidention her bu\n",
            "\n",
            "Epoch 36/50\n",
            "216/216 [==============================] - 6s 28ms/step - loss: 0.3415\n",
            "Epoch 37/50\n",
            "216/216 [==============================] - 6s 29ms/step - loss: 0.3316\n",
            "Epoch 38/50\n",
            "216/216 [==============================] - 6s 29ms/step - loss: 0.3211\n",
            "Epoch 39/50\n",
            "216/216 [==============================] - 6s 29ms/step - loss: 0.3140\n",
            "Epoch 40/50\n",
            "216/216 [==============================] - 6s 29ms/step - loss: 0.3057\n",
            "####################\n",
            "Temperature: 0.2\n",
            "####################\n",
            "minms Biden is the shortestio tears, fourwer why Brexit as US election  https://t.co/S5Jpq4Xekz  https://t.co/S1xpqfpIkj  https://t.co/SokpqdWXby\"\n",
            "1996,🇺🇸 US election is on the US election 2020: Biden renews attack on Joe Biden in the upcoming US election is on the US election 2020: Biden renews att\n",
            "\n",
            "part will be no express in the forthcoming US election because both are age a lot of time in favory. Biden has sadely decadems. @ Joe Biden  https://t.co/k3RE54bhVj\"\n",
            "2255,\"The US election is on the US election is on the US election is on the US election  https://t.co/ddPppdVfB6\n",
            "833,\"How do deas warn\n",
            "\n",
            "minms Biden is the presidential debate  https://t.co/S3PAqfnpwz\"\n",
            "1458,#Gravistorhing attamis look he attrmparing the early voting suchages of I could vote in US Election 2020: Trump and his Democratic presidential debate  https://t.co/d53pJ0Jggz\"\n",
            "1333,\"Look lone if he wins. #USElection  #Trump  #Bid\n",
            "\n",
            "####################\n",
            "Temperature: 0.5\n",
            "####################\n",
            "mit two are going to be tro winning @Eburts firds that if Iran is in the new Deparrin stated year's him refused to record ship a Biden wins the US election  https://t.co/TA8s0frByc\n",
            "1404,\"The state of Texas  https://t.co/mgioredvan, why Trump has spoken ahead of the US election will affeces of Profen\n",
            "\n",
            "mit to peaceful protesters.  I pray that Gud Pandam MC: Laidon Indias 19 91% of Trump and his Democratic President Donald Trump and his Democratic presidential debate  Read  https://t.co/OFRDuQRsCL #Heisares  @SkrtBiden will win right naise of the campaign (opinion) - CNN  https://t.co/SFxIbMpNFz\"\n",
            "8\n",
            "\n",
            "mit is the elections by a llading one countrows on Pennsylvania won't be as early supporting Joe Biden wins the election 2020: Trump and his Democrats will always been for Joe Biden   https://t.co/vHHpqXXpFF\n",
            "2038,\"US ELECTION   https://t.co/pItE8rb3dw\"\n",
            "1922,This US Election  https://t.co/tyoTbihlwx \n",
            "\n",
            "####################\n",
            "Temperature: 1.0\n",
            "####################\n",
            "m, will pandems. Ley’s country over a cencentify &amp; heasing his lose US President Vladimir Putin by promoting conspiracy theok accures face.\"\n",
            "4212,\"Another sign that Russia (anasty Biden. PAgeNBEnrems chance; including in the swing states, Trump or Biden? - Joe Biden’s faming excleaden time of th\n",
            "\n",
            "tain the first the nation's healthy year, I wonder the final presidential bt to vote in the US election 2020: Dwoy the nectorsed likely not convict his months for America. #Whro control before final Treves on the US election. Book navy Trump. He's baing swn as Biden surport on on Democratic nominee \n",
            "\n",
            "e US election an election and dob a slam daug  https://t.co/HEbhLJ7dRx  https://t.co/W0MEz2z4b6\n",
            "3740,2020 US election day. Book n thingoct v  https://t.co/mZ3p38oFQ3  https://t.co/eWGH1LpinP\n",
            "1799,US President Donald Trump, Biden and his far right populist nonse Amir #USElection Frad &IAmp; Fagwerris\n",
            "\n",
            "Epoch 41/50\n",
            "216/216 [==============================] - 6s 27ms/step - loss: 0.2977\n",
            "Epoch 42/50\n",
            "216/216 [==============================] - 6s 29ms/step - loss: 0.2901\n",
            "Epoch 43/50\n",
            "216/216 [==============================] - 6s 29ms/step - loss: 0.2837\n",
            "Epoch 44/50\n",
            "216/216 [==============================] - 6s 29ms/step - loss: 0.2767\n",
            "Epoch 45/50\n",
            "216/216 [==============================] - 6s 30ms/step - loss: 0.2719\n",
            "####################\n",
            "Temperature: 0.2\n",
            "####################\n",
            "ments\"\n",
            "3335,\"Defn climate change • Trump goes to California  https://t.co/C3JAvfOhhL\n",
            "1558,Pow us it   The intrepid US Election 2020: Trump and Joe Biden  https://t.co/n5Ppv8BEkL\n",
            "2430,\"The Pandemicty  https://t.co/nfPwJfINe @JoeBiden &amp; Trump? @billy_bly better for Brexit as US election 2020: Trum\n",
            "\n",
            "ments\"\n",
            "3335,\"Defn climate change • Trump goes to California &amp; I was an id of the US election is only two weeks before the US election 2020: Trump and Biden campaign to the Republican vs.\n",
            "2617,2020 US election is only two weeks away, but show telling scientists @natuicroin couldn't be more immet \n",
            "\n",
            "ments\"\n",
            "3335,\"Defn climate change • Trump goes to California to get high buss he is itcome for Britain, as glo Ausstray decining the US election 2020: Trump and Biden campaign to the Republican stronghold state  https://t.co/3csEu4IlJU\n",
            "2329,\"The President Donald Trump and Joe Biden  https://t.co/e1RL\n",
            "\n",
            "####################\n",
            "Temperature: 0.5\n",
            "####################\n",
            "ments as we near the line - favours EU so no have the ONLY predececter mintn that more look We's voting for Democratic presidential debate  https://t.co/7pFbvf0202\n",
            "3050,\"US Election 2020: Trump and his Democrats, traumatized by Hallary Clinton's defens to the first #Debates2020  #USElection   https:\n",
            "\n",
            "mit  https://t.co/Bx3UtFFThF\"\n",
            "1641,\"US ELECTION -  happear chief nite a US election debate at least now bave how clank of the missorous of come our many hall Hunter Biden endorsements how US election interfere in an upcoming US election results are.  Q. US Election 2020: Could the Latino vote flie R\n",
            "\n",
            "s very impact the UK &amp; Rudy Giuliani's daughter endorses Joe Biden for presidential debate  https://t.co/01ZjW8k1Bb\"\n",
            "1426,TMonGIL Biden does not captubling to vote for @JoeBiden does not captuble that his Biden-wins in November 3. The battle is a contratting enterts: US election 2020: Trump and \n",
            "\n",
            "####################\n",
            "Temperature: 1.0\n",
            "####################\n",
            "ecirned halls, US election debate is believe that if Biden gove look   Layt adviser H.R. McMaster told @merectitals can show, who still hopming they will be quitence release of closes himsted the polls by the bass is whether or not to Trump rally, this mistormare.  The polls look goriing Trump and B\n",
            "\n",
            "hat the US election  https://t.co/GoMTrr6NmUS #DecEnnians confusting check becuse of an election news likely would comments as we near the end of the disk on the big calding whether to nothing for Australia has about what is in the new Deparrin strettly endorsed Joe Biden in US election comes up, it\n",
            "\n",
            "/t.co/StfQfgOJhu\"\n",
            "2004,\"US election, Live - % of youe need to know about the wide as the people. Here we go backst the fan nobow\"\n",
            "1711,US election is a week that platting more battle coss in whet's US election poll: Trump BEATING Biden. Not what I’m hill be apisodo(tion. Anyone else how Biden leads \n",
            "\n",
            "Epoch 46/50\n",
            "216/216 [==============================] - 6s 28ms/step - loss: 0.2652\n",
            "Epoch 47/50\n",
            "216/216 [==============================] - 6s 30ms/step - loss: 0.2590\n",
            "Epoch 48/50\n",
            "216/216 [==============================] - 7s 30ms/step - loss: 0.2545\n",
            "Epoch 49/50\n",
            "216/216 [==============================] - 6s 29ms/step - loss: 0.2489\n",
            "Epoch 50/50\n",
            "216/216 [==============================] - 6s 29ms/step - loss: 0.2445\n",
            "####################\n",
            "Temperature: 0.2\n",
            "####################\n",
            "ments\"\n",
            "3335,\"Defn corruption is. #Rubsestonficly since the 1936 US election 2020: Biden has a sizable lead in polls over his challenger since the 1936 US election is only two weeks away, #Republican state of Americans have followed 2016 US election 2020: Biden has a sizable lead in polls over his ch\n",
            "\n",
            "ments\"\n",
            "3335,\"Defunter's country over a century later.  Biden thinks out of US election poll: Trump BEATING Biden despite being hospitalised with covid – EXCLUSIVE  https://t.co/SxPFTfttth #Uccoongrow is in the new Deparrin stated and masked him the election 2020: Biden releases tax returns hours bef\n",
            "\n",
            "ments\"\n",
            "3335,\"Defunter's country music pauses for Trump sees to Boding and Trump says he doesn't know why CNN and other lawmakers are \"\"making it easy\"\" for Russia, market on 47 big countraic be my promptial resomnce than on the US election is on, we as battleground states that Joe Biden  https://t.c\n",
            "\n",
            "####################\n",
            "Temperature: 0.5\n",
            "####################\n",
            "ment and campaign to the Republican stronghold over between so deeply entrenched that winning Pennsylvania won't be fired. India hossistened of a link - Who wonder if there’s an elected US senatorawe can endorsement  https://t.co/z4RoDXjd0B\"\n",
            "646,\"Thing is it easy\"\" for Russia, market on Wy signal al\n",
            "\n",
            "ments\"\n",
            "3335,\"Donald Trump and Joe Biden   https://t.co/d5xFhippG\n",
            "4424,US election poll: Trump BEATING Biden despite being hospitalised with Covid – EXCLUSIVE  https://t.co/9CF0wfUSc\n",
            "1229,US election to governear destabity  https://t.co/wykfurNC USaiginger as the realities of leftns to tell userue sp\n",
            "\n",
            "ments\"\n",
            "3635,\"Defunding the point. Trump to Biden in US election angst of US election debate if Biden wins the US election is only two weaker will go for #BidenHarris2020Lands #Trump and Joe Biden is set to New York Post want to go for a no-deal #briaktmac as big Biden wins the US election is a littl\n",
            "\n",
            "####################\n",
            "Temperature: 1.0\n",
            "####################\n",
            "vote in the US election?    https://t.co/SoIGUZREz6  persance: Biden on basc. Leyl was now. Nis haved you vote for?\"\n",
            "367iHa\"\n",
            "194,\"🇺🇸 US election: Rudy Giuliani’s daughter urges Americans alone so people that the President twice before.  But what more do we know about Joe Biden forget #JoeBiden  is s\n",
            "\n",
            "ts Lisaiges lead to Donald Trump and Biden prepare for their town halls senate ahear of the most important that the US election forecast (43 days to go)  WIN CHANCE (daily change) Biden: 87% (+5) Trump: 2021 Murlia his election doesn’t care who wins US election: Is Joe Biden’s trust in truth, eviden\n",
            "\n",
            "COVID-19 pandemic response to my twee to the US polls election is Biden on course for a blowout victory?  https://t.co/qMQtauOvPine.  Phitred not supporting the criminal regime in Iran and its every.\"\"  Stays vires the most conservative party's just im \"\"even every Chinese firms are so interfering i\n",
            "\n"
          ],
          "name": "stdout"
        }
      ]
    },
    {
      "cell_type": "markdown",
      "metadata": {
        "id": "RTa6zf3e_9gV"
      },
      "source": [
        "You can download a large amount of generated text from your model with the cell below! Rerun the cell as many times as you want for even more text!"
      ]
    },
    {
      "cell_type": "code",
      "metadata": {
        "id": "-fxL77nvAMAX",
        "outputId": "10b9dffb-1a86-4118-fc25-eb054c5be434",
        "colab": {
          "base_uri": "https://localhost:8080/",
          "height": 17
        }
      },
      "source": [
        "# this temperature schedule cycles between 1 very unexpected token, 1 unexpected token, 2 expected tokens, repeat.\n",
        "# changing the temperature schedule can result in wildly different output!\n",
        "temperature = [1.0, 0.5, 0.2, 0.2]   \n",
        "prefix = None   # if you want each generated text to start with a given seed text\n",
        "\n",
        "if train_cfg['line_delimited']:\n",
        "  n = 1000\n",
        "  max_gen_length = 60 if model_cfg['word_level'] else 300\n",
        "else:\n",
        "  n = 1\n",
        "  max_gen_length = 2000 if model_cfg['word_level'] else 10000\n",
        "  \n",
        "timestring = datetime.now().strftime('%Y%m%d_%H%M%S')\n",
        "gen_file = '{}_gentext_{}.txt'.format(model_name, timestring)\n",
        "\n",
        "textgen.generate_to_file(gen_file,\n",
        "                         temperature=temperature,\n",
        "                         prefix=prefix,\n",
        "                         n=n,\n",
        "                         max_gen_length=max_gen_length)\n",
        "files.download(gen_file)"
      ],
      "execution_count": 13,
      "outputs": [
        {
          "output_type": "display_data",
          "data": {
            "application/javascript": [
              "\n",
              "    async function download(id, filename, size) {\n",
              "      if (!google.colab.kernel.accessAllowed) {\n",
              "        return;\n",
              "      }\n",
              "      const div = document.createElement('div');\n",
              "      const label = document.createElement('label');\n",
              "      label.textContent = `Downloading \"${filename}\": `;\n",
              "      div.appendChild(label);\n",
              "      const progress = document.createElement('progress');\n",
              "      progress.max = size;\n",
              "      div.appendChild(progress);\n",
              "      document.body.appendChild(div);\n",
              "\n",
              "      const buffers = [];\n",
              "      let downloaded = 0;\n",
              "\n",
              "      const channel = await google.colab.kernel.comms.open(id);\n",
              "      // Send a message to notify the kernel that we're ready.\n",
              "      channel.send({})\n",
              "\n",
              "      for await (const message of channel.messages) {\n",
              "        // Send a message to notify the kernel that we're ready.\n",
              "        channel.send({})\n",
              "        if (message.buffers) {\n",
              "          for (const buffer of message.buffers) {\n",
              "            buffers.push(buffer);\n",
              "            downloaded += buffer.byteLength;\n",
              "            progress.value = downloaded;\n",
              "          }\n",
              "        }\n",
              "      }\n",
              "      const blob = new Blob(buffers, {type: 'application/binary'});\n",
              "      const a = document.createElement('a');\n",
              "      a.href = window.URL.createObjectURL(blob);\n",
              "      a.download = filename;\n",
              "      div.appendChild(a);\n",
              "      a.click();\n",
              "      div.remove();\n",
              "    }\n",
              "  "
            ],
            "text/plain": [
              "<IPython.core.display.Javascript object>"
            ]
          },
          "metadata": {
            "tags": []
          }
        },
        {
          "output_type": "display_data",
          "data": {
            "application/javascript": [
              "download(\"download_d66bc18d-efb5-44d4-a69c-67245945a1d3\", \"colaboratory_gentext_20201031_035300.txt\", 10048)"
            ],
            "text/plain": [
              "<IPython.core.display.Javascript object>"
            ]
          },
          "metadata": {
            "tags": []
          }
        }
      ]
    },
    {
      "cell_type": "markdown",
      "metadata": {
        "id": "ClJwpF_ACONp"
      },
      "source": [
        "You can download the weights and configuration files in the cell below, allowing you recreate the model on your own computer!"
      ]
    },
    {
      "cell_type": "code",
      "metadata": {
        "id": "4RNY6RBI9LmL",
        "outputId": "3ade9ed4-5d7e-4d33-c8b2-cf0574238ec2",
        "colab": {
          "base_uri": "https://localhost:8080/",
          "height": 333
        }
      },
      "source": [
        "files.download('{}_weights.hdf5'.format(model_name))\n",
        "files.download('{}_vocab.json'.format(model_name))\n",
        "files.download('{}_config.json'.format(model_name))"
      ],
      "execution_count": 7,
      "outputs": [
        {
          "output_type": "error",
          "ename": "FileNotFoundError",
          "evalue": "ignored",
          "traceback": [
            "\u001b[0;31m---------------------------------------------------------------------------\u001b[0m",
            "\u001b[0;31mFileNotFoundError\u001b[0m                         Traceback (most recent call last)",
            "\u001b[0;32m<ipython-input-7-c9703f923ae4>\u001b[0m in \u001b[0;36m<module>\u001b[0;34m()\u001b[0m\n\u001b[1;32m      1\u001b[0m \u001b[0mmodel_name\u001b[0m \u001b[0;34m=\u001b[0m \u001b[0;34m\"df_trump\"\u001b[0m\u001b[0;34m\u001b[0m\u001b[0;34m\u001b[0m\u001b[0m\n\u001b[0;32m----> 2\u001b[0;31m \u001b[0mfiles\u001b[0m\u001b[0;34m.\u001b[0m\u001b[0mdownload\u001b[0m\u001b[0;34m(\u001b[0m\u001b[0;34m'{}_weights.hdf5'\u001b[0m\u001b[0;34m.\u001b[0m\u001b[0mformat\u001b[0m\u001b[0;34m(\u001b[0m\u001b[0mmodel_name\u001b[0m\u001b[0;34m)\u001b[0m\u001b[0;34m)\u001b[0m\u001b[0;34m\u001b[0m\u001b[0;34m\u001b[0m\u001b[0m\n\u001b[0m\u001b[1;32m      3\u001b[0m \u001b[0mfiles\u001b[0m\u001b[0;34m.\u001b[0m\u001b[0mdownload\u001b[0m\u001b[0;34m(\u001b[0m\u001b[0;34m'{}_vocab.json'\u001b[0m\u001b[0;34m.\u001b[0m\u001b[0mformat\u001b[0m\u001b[0;34m(\u001b[0m\u001b[0mmodel_name\u001b[0m\u001b[0;34m)\u001b[0m\u001b[0;34m)\u001b[0m\u001b[0;34m\u001b[0m\u001b[0;34m\u001b[0m\u001b[0m\n\u001b[1;32m      4\u001b[0m \u001b[0mfiles\u001b[0m\u001b[0;34m.\u001b[0m\u001b[0mdownload\u001b[0m\u001b[0;34m(\u001b[0m\u001b[0;34m'{}_config.json'\u001b[0m\u001b[0;34m.\u001b[0m\u001b[0mformat\u001b[0m\u001b[0;34m(\u001b[0m\u001b[0mmodel_name\u001b[0m\u001b[0;34m)\u001b[0m\u001b[0;34m)\u001b[0m\u001b[0;34m\u001b[0m\u001b[0;34m\u001b[0m\u001b[0m\n",
            "\u001b[0;32m/usr/local/lib/python3.6/dist-packages/google/colab/files.py\u001b[0m in \u001b[0;36mdownload\u001b[0;34m(filename)\u001b[0m\n\u001b[1;32m    141\u001b[0m       \u001b[0;32mraise\u001b[0m \u001b[0mOSError\u001b[0m\u001b[0;34m(\u001b[0m\u001b[0mmsg\u001b[0m\u001b[0;34m)\u001b[0m\u001b[0;34m\u001b[0m\u001b[0;34m\u001b[0m\u001b[0m\n\u001b[1;32m    142\u001b[0m     \u001b[0;32melse\u001b[0m\u001b[0;34m:\u001b[0m\u001b[0;34m\u001b[0m\u001b[0;34m\u001b[0m\u001b[0m\n\u001b[0;32m--> 143\u001b[0;31m       \u001b[0;32mraise\u001b[0m \u001b[0mFileNotFoundError\u001b[0m\u001b[0;34m(\u001b[0m\u001b[0mmsg\u001b[0m\u001b[0;34m)\u001b[0m  \u001b[0;31m# pylint: disable=undefined-variable\u001b[0m\u001b[0;34m\u001b[0m\u001b[0;34m\u001b[0m\u001b[0m\n\u001b[0m\u001b[1;32m    144\u001b[0m \u001b[0;34m\u001b[0m\u001b[0m\n\u001b[1;32m    145\u001b[0m   \u001b[0mcomm_manager\u001b[0m \u001b[0;34m=\u001b[0m \u001b[0m_IPython\u001b[0m\u001b[0;34m.\u001b[0m\u001b[0mget_ipython\u001b[0m\u001b[0;34m(\u001b[0m\u001b[0;34m)\u001b[0m\u001b[0;34m.\u001b[0m\u001b[0mkernel\u001b[0m\u001b[0;34m.\u001b[0m\u001b[0mcomm_manager\u001b[0m\u001b[0;34m\u001b[0m\u001b[0;34m\u001b[0m\u001b[0m\n",
            "\u001b[0;31mFileNotFoundError\u001b[0m: Cannot find file: df_trump_weights.hdf5"
          ]
        }
      ]
    },
    {
      "cell_type": "markdown",
      "metadata": {
        "id": "oF4-PqF0Fl7R"
      },
      "source": [
        "To recreate the model on your own computer, after installing textgenrnn and TensorFlow, you can create a Python script with:\n",
        "\n",
        "```\n",
        "from textgenrnn import textgenrnn\n",
        "textgen = textgenrnn(weights_path='colaboratory_weights.hdf5',\n",
        "                       vocab_path='colaboratory_vocab.json',\n",
        "                       config_path='colaboratory_config.json')\n",
        "                       \n",
        "textgen.generate_samples(max_gen_length=1000)\n",
        "textgen.generate_to_file('textgenrnn_texts.txt', max_gen_length=1000)\n",
        "```\n",
        "\n",
        "Have fun with your new model! :)"
      ]
    },
    {
      "cell_type": "markdown",
      "metadata": {
        "id": "92Zjtsb_Dgj-"
      },
      "source": [
        "# Etcetera\n",
        "\n",
        "If the model fails to load on a local machine due to a model-size-not-matching bug (common in >30MB weights), this is due to a file export bug from Colaboratory. To work around this issue, save the weights to Google Drive with the two cells below and download from there."
      ]
    },
    {
      "cell_type": "code",
      "metadata": {
        "id": "F-IzscxUHmAB"
      },
      "source": [
        "!pip install -U -q PyDrive\n",
        "from pydrive.auth import GoogleAuth\n",
        "from pydrive.drive import GoogleDrive\n",
        "from google.colab import auth\n",
        "from google.colab import files\n",
        "from oauth2client.client import GoogleCredentials\n",
        "\n",
        "auth.authenticate_user()\n",
        "gauth = GoogleAuth()\n",
        "gauth.credentials = GoogleCredentials.get_application_default()\n",
        "drive = GoogleDrive(gauth)"
      ],
      "execution_count": null,
      "outputs": []
    },
    {
      "cell_type": "code",
      "metadata": {
        "id": "WR4_XJpfKAIn",
        "outputId": "f70ce499-1062-4968-8423-c7dbcd71cc5d",
        "colab": {
          "base_uri": "https://localhost:8080/",
          "height": 35
        }
      },
      "source": [
        "uploaded = drive.CreateFile({'title': '{}_weights.hdf5'.format(model_name)})\n",
        "uploaded.SetContentFile('{}_weights.hdf5'.format(model_name))\n",
        "uploaded.Upload()\n",
        "print('Uploaded file with ID {}'.format(uploaded.get('id')))"
      ],
      "execution_count": null,
      "outputs": [
        {
          "output_type": "stream",
          "text": [
            "Uploaded file with ID 1b6T6M32YnXs-c0NB-PEi6MhAdCuG7RHy\n"
          ],
          "name": "stdout"
        }
      ]
    },
    {
      "cell_type": "markdown",
      "metadata": {
        "id": "ig-KVgkCDCKD"
      },
      "source": [
        "If the notebook has errors (e.g. GPU Sync Fail), force-kill the Colaboratory virtual machine and restart it with the command below:"
      ]
    },
    {
      "cell_type": "code",
      "metadata": {
        "id": "rIHiVP53FnsX"
      },
      "source": [
        "!kill -9 -1"
      ],
      "execution_count": null,
      "outputs": []
    }
  ]
}